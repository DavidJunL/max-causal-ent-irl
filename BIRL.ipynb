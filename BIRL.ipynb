{
 "cells": [
  {
   "cell_type": "code",
   "execution_count": 40,
   "metadata": {},
   "outputs": [],
   "source": [
    "import numpy as np\n",
    "from scipy.stats import expon\n",
    "from scipy.stats import norm\n",
    "\n",
    "from envs.vases_grid import VasesGrid, VasesEnvState, print_state, str_to_state, state_to_str\n",
    "from envs.utils import unique_perm, zeros_with_ones, printoptions\n",
    "from envs.vases_spec import VasesEnvState2x3V2D3, VasesEnvSpec2x3V2D3, VasesEnvState2x3Broken, VasesEnvSpec2x3Broken\n",
    "\n",
    "from value_iter_and_policy import vi_boltzmann, vi_boltzmann_deterministic, vi_rational_deterministic\n",
    "\n",
    "\n",
    "TEMP=0\n",
    "\n",
    "\n",
    "class neg_exp_distr(object):\n",
    "    '''\n",
    "    a wrapper to not get confused with the negative exp distribuion,\n",
    "    as scipy doesn't have a good way to do *negative* exp\n",
    "    '''\n",
    "    def __init__(self, mode, scale=1):\n",
    "        self.mode = mode\n",
    "        self.scale = scale\n",
    "        self.distribution = expon(loc=-mode, scale=scale)\n",
    "        \n",
    "    def rvs(self):\n",
    "        '''sample'''\n",
    "        return -self.distribution.rvs()\n",
    "    \n",
    "    def pdf(self, x):\n",
    "        return self.distribution.pdf(-x)\n",
    "    \n",
    "\n",
    "\n",
    "\n",
    "def birl_one_s_likelihood(s_current, V, temp=1):\n",
    "    return np.exp((V[np.where(s_current)])/temp)\n",
    "    \n",
    "\n",
    "def policy_walk(env, r_spec, s_current, step_size, n_samples):\n",
    "    '''\n",
    "    Algo inspired by one in Appendix A from https://arxiv.org/pdf/1807.05037.pdf,\n",
    "    should be equivalent to the original BIRL (but for one state)\n",
    "    '''\n",
    "    \n",
    "    i=0\n",
    "    \n",
    "    p = .5\n",
    "    samples = []\n",
    "    \n",
    "    #r_prior = neg_exp_distr(mode=r_spec, scale=2)\n",
    "    r_prior = norm(loc=r_spec, scale=.1)\n",
    "    \n",
    "    r = r_prior.rvs()\n",
    "    V, Q, pi = vi_rational_deterministic(env, gamma=.97, r=env.f_matrix @ r)\n",
    "    \n",
    "    while True:\n",
    "        \n",
    "        r_prime = np.random.normal(r, step_size)        \n",
    "        #r_prime[r_prime>r_spec] = r_spec[r_prime>r_spec]\n",
    "        \n",
    "        V_prime, Q_prime, pi_prime = vi_rational_deterministic(env, gamma=.97,\n",
    "                                                               r=env.f_matrix @ r_prime,\n",
    "                                                               init_V = V)\n",
    "        \n",
    "        p_1 = birl_one_s_likelihood(s_current, V_prime) * np.prod(r_prior.pdf(r_prime))\n",
    "        \n",
    "        \n",
    "        # There are sometimes numerical errors since birl_one_s_likelihood is\n",
    "        # unnormalized and gets very large. This is why r_spec is 10 times smaller\n",
    "        # than normal.\n",
    "        # TODO: Metropolis-Hastings with logprobs instead of probs\n",
    "        if not np.isfinite(p_1) or np.isnan(p_1):\n",
    "            print(p)\n",
    "            print(p_1)\n",
    "\n",
    "        \n",
    "        if np.random.uniform()<np.amin(np.array([1, p_1/p])) and p>0:\n",
    "            samples.append(r_prime)\n",
    "            r = np.copy(r_prime)\n",
    "            V = np.copy(V_prime)\n",
    "            p = np.copy(p_1)\n",
    "\n",
    "        if len(samples)%100==0:\n",
    "            if i!=len(samples):\n",
    "                i = len(samples)\n",
    "                print('samples generated: ', len(samples))\n",
    "        \n",
    "        if len(samples)==n_samples:\n",
    "            return samples\n"
   ]
  },
  {
   "cell_type": "code",
   "execution_count": null,
   "metadata": {
    "scrolled": false
   },
   "outputs": [],
   "source": [
    "import warnings\n",
    "warnings.filterwarnings('error')\n",
    "\n",
    "env2x3v2d3 = VasesGrid(VasesEnvSpec2x3V2D3(), VasesEnvState2x3V2D3())\n",
    "r_spec = np.array([0, 0, .1, 0, 0, 0])\n",
    "\n",
    "s_current = np.zeros(env2x3v2d3.nS)\n",
    "s_current[1582] = 1\n",
    "print_state(str_to_state(env2x3v2d3.num_state[1582]))\n",
    "\n",
    "r_samples = policy_walk(env2x3v2d3, r_spec, s_current, step_size=.02, n_samples=1000)"
   ]
  },
  {
   "cell_type": "code",
   "execution_count": null,
   "metadata": {},
   "outputs": [],
   "source": [
    "#r_samples"
   ]
  },
  {
   "cell_type": "code",
   "execution_count": 39,
   "metadata": {},
   "outputs": [
    {
     "data": {
      "text/plain": [
       "array([-0.00556688,  0.02111717,  0.09687882, -0.00501262,  0.60154344,\n",
       "        0.32314526])"
      ]
     },
     "execution_count": 39,
     "metadata": {},
     "output_type": "execute_result"
    }
   ],
   "source": [
    "'''\n",
    "Order of features:\n",
    "- Number of broken vases\n",
    "- Number of vases on tables\n",
    "- Number of tablecloths on tables\n",
    "- Number of tablecloths on floors\n",
    "- Number of vases on desks\n",
    "- Number of tablecloths on desks\n",
    "'''\n",
    "np.mean(r_samples[200::], axis=0)"
   ]
  },
  {
   "cell_type": "code",
   "execution_count": null,
   "metadata": {},
   "outputs": [],
   "source": []
  }
 ],
 "metadata": {
  "kernelspec": {
   "display_name": "TensorFlow-GPU",
   "language": "python",
   "name": "tf-gpu"
  },
  "language_info": {
   "codemirror_mode": {
    "name": "ipython",
    "version": 3
   },
   "file_extension": ".py",
   "mimetype": "text/x-python",
   "name": "python",
   "nbconvert_exporter": "python",
   "pygments_lexer": "ipython3",
   "version": "3.6.6"
  }
 },
 "nbformat": 4,
 "nbformat_minor": 2
}

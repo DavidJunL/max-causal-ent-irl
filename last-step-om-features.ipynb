{
 "cells": [
  {
   "cell_type": "code",
   "execution_count": 1,
   "metadata": {},
   "outputs": [],
   "source": [
    "import numpy as np\n",
    "from scipy.special import comb\n",
    "from itertools import permutations\n",
    "\n",
    "from envs.vases_grid import VasesGrid, VasesEnvSpec, VasesEnvState, print_state, str_to_state, state_to_str\n",
    "from envs.utils import unique_perm, zeros_with_ones\n",
    "from envs.vases_spec import VasesEnvState2x3, VasesEnvSpec2x3, VasesEnvState3x3, VasesEnvSpec3x3\n",
    "\n",
    "from value_iter_and_policy import vi_boltzmann, vi_boltzmann_deterministic"
   ]
  },
  {
   "cell_type": "code",
   "execution_count": 2,
   "metadata": {},
   "outputs": [],
   "source": [
    "def compute_D_last_step_discrete(mdp, policy, p_0, T, verbose=False):\n",
    "    '''\n",
    "    computes the last-step occupancy measure \n",
    "    '''\n",
    "    D_prev = p_0 \n",
    "    \n",
    "    t = 0\n",
    "    for t in range(T):\n",
    "        \n",
    "        # for T-step OM we'd do D=np.copy(P_0). However, we want the last step one, so:\n",
    "        D = np.zeros_like(p_0)\n",
    "        \n",
    "        for s in range(mdp.nS):\n",
    "            for a in range(mdp.nA):\n",
    "                # due to env being deterministic, sprime=self.P[s][a][1] and p_sprime=1\n",
    "                D[mdp.P[s][a][1]] += D_prev[s] * policy[s, a] \n",
    "                    \n",
    "        D_prev = np.copy(D)\n",
    "        if verbose is True: print(D)\n",
    "    return D"
   ]
  },
  {
   "cell_type": "code",
   "execution_count": 8,
   "metadata": {
    "collapsed": true
   },
   "outputs": [],
   "source": [
    "def OM_method(mdp, current_state, p_0, horizon, temperature=1, epochs=1, learning_rate=0.2, r_vec=None):\n",
    "    '''\n",
    "    Modified MaxCausalEnt that maximizes last step occupancy measure for the current state\n",
    "    '''\n",
    "    \n",
    "    if r_vec is None:\n",
    "        r_vec = .01*np.random.randn(mdp.feature_matrix.shape[1])\n",
    "        print('Initial reward vector: {}'.format(r_vec))\n",
    "        \n",
    "    for i in range(epochs):\n",
    "        \n",
    "            # Compute the Boltzmann rational policy \\pi_{s,a} = \\exp(Q_{s,a} - V_s) \n",
    "            V, Q, policy = vi_boltzmann(mdp, 1, mdp.feature_matrix @ r_vec, horizon, temperature) \n",
    "            \n",
    "            D = compute_D_last_step_discrete(mdp, policy, p_0, horizon)   \n",
    "            dL_dr_vec = -(current_state - D) @ mdp.feature_matrix\n",
    "\n",
    "            # Gradient descent; gradiend may not be the actual gradient -- have to check the math,\n",
    "            # bit this should do the matching correctly\n",
    "            r_vec = r_vec - learning_rate * dL_dr_vec\n",
    "            \n",
    "            if i%10==0:\n",
    "                print('Epoch {}'.format(i))\n",
    "                print('Reward vector: {}'.format(r_vec))\n",
    "            #print('Policy: {}'.format(policy))\n",
    "            #print('Last-step D: {} \\n'.format(D))\n",
    "\n",
    "    return r_vec"
   ]
  },
  {
   "cell_type": "code",
   "execution_count": 9,
   "metadata": {
    "collapsed": true
   },
   "outputs": [],
   "source": [
    "def experiment2x3(horizon=22, #number of timesteps we assume the expert has been acting previously\n",
    "         temperature_irl=1,\n",
    "         learning_rate=.1,\n",
    "         epochs = 500):\n",
    "\n",
    "    # make env\n",
    "    env_spec_2x3 = VasesEnvSpec2x3()\n",
    "    init_s_2x3 = VasesEnvState2x3()\n",
    "    env2x3 = VasesGrid(env_spec_2x3, init_s_2x3)\n",
    "    env2x3.enumerate_states()\n",
    "    env2x3.make_feature_matrix()\n",
    "    env2x3.get_transition_matrix()\n",
    "    \n",
    "    print('Initial state:')\n",
    "    print_state(init_s_2x3)\n",
    "\n",
    "    p_0=np.zeros(env2x3.nS)\n",
    "    p_0[env2x3.state_num[state_to_str(init_s_2x3)]] = 1\n",
    "    \n",
    "    current_state = np.copy(p_0)\n",
    "    \n",
    "    r_vec = OM_method(env2x3, current_state, p_0, horizon, temperature_irl, epochs, learning_rate)\n",
    "    print('Final reward weights: ', r_vec)\n",
    "    return r_vec"
   ]
  },
  {
   "cell_type": "code",
   "execution_count": null,
   "metadata": {},
   "outputs": [
    {
     "name": "stdout",
     "output_type": "stream",
     "text": [
      "Initial state:\n",
      "|\u001b[0;35;85m█\u001b[0m\u001b[0;32;85m█\u001b[0m|  |  |\n",
      "|\u001b[0;33;85m█\u001b[0m |\u001b[0m↑\u001b[0m |\u001b[0;33;85m█\u001b[0m |\n",
      "|––|––|––|\n",
      "|  |  |  |\n",
      "|  |  |  |\n",
      "Initial reward vector: [-0.00580356  0.00993123  0.00994856  0.00298962  0.0084146  -0.0034977 ]\n",
      "Epoch 0\n",
      "Reward vector: [-0.00889907  0.00531309  0.00994056  0.00295301  0.03366778 -0.00268243]\n",
      "Epoch 10\n",
      "Reward vector: [-0.01580261 -0.00455382  0.00992281  0.00287472  0.1104965  -0.0009853 ]\n",
      "Epoch 20\n",
      "Reward vector: [-0.01741228 -0.00679734  0.00991845  0.00285569  0.14008848 -0.00060029]\n",
      "Epoch 30\n",
      "Reward vector: [-0.01819018 -0.00787027  0.00991626  0.00284616  0.16005363 -0.0004158 ]\n",
      "Epoch 40\n",
      "Reward vector: [-0.0186505  -0.00849942  0.00991493  0.0028404   0.17570281 -0.00030779]\n",
      "Epoch 50\n",
      "Reward vector: [-0.01895208 -0.00890825  0.00991404  0.00283656  0.18887519 -0.00023795]\n",
      "Epoch 60\n",
      "Reward vector: [ -1.91623798e-02  -9.19133213e-03   9.91341558e-03   2.83385481e-03\n",
      "   2.00429225e-01  -1.89977748e-04]\n",
      "Epoch 70\n",
      "Reward vector: [ -1.93154073e-02  -9.39614694e-03   9.91295186e-03   2.83187251e-03\n",
      "   2.10836275e-01  -1.55643962e-04]\n",
      "Epoch 80\n",
      "Reward vector: [ -1.94302756e-02  -9.54926976e-03   9.91259982e-03   2.83037832e-03\n",
      "   2.20383562e-01  -1.30327879e-04]\n",
      "Epoch 90\n",
      "Reward vector: [ -1.95185815e-02  -9.66673605e-03   9.91232656e-03   2.82922742e-03\n",
      "   2.29259342e-01  -1.11229002e-04]\n",
      "Epoch 100\n",
      "Reward vector: [ -1.95877663e-02  -9.75877206e-03   9.91211067e-03   2.82832558e-03\n",
      "   2.37593878e-01  -9.65557683e-05]\n"
     ]
    }
   ],
   "source": [
    "#np.random.seed(1)\n",
    "experiment2x3()"
   ]
  },
  {
   "cell_type": "code",
   "execution_count": null,
   "metadata": {
    "collapsed": true
   },
   "outputs": [],
   "source": []
  }
 ],
 "metadata": {
  "kernelspec": {
   "display_name": "Python 3",
   "language": "python",
   "name": "python3"
  },
  "language_info": {
   "codemirror_mode": {
    "name": "ipython",
    "version": 3
   },
   "file_extension": ".py",
   "mimetype": "text/x-python",
   "name": "python",
   "nbconvert_exporter": "python",
   "pygments_lexer": "ipython3",
   "version": "3.6.2"
  }
 },
 "nbformat": 4,
 "nbformat_minor": 2
}

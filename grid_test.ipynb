{
 "cells": [
  {
   "cell_type": "code",
   "execution_count": null,
   "metadata": {},
   "outputs": [],
   "source": [
    "import numpy as np\n",
    "\n",
    "from envs.vases_grid import VasesGrid, VasesEnvState, print_state, str_to_state, state_to_str\n",
    "from envs.utils import unique_perm, zeros_with_ones\n",
    "from envs.vases_spec import VasesEnvState2x3, VasesEnvSpec2x3, VasesEnvState3x3, VasesEnvSpec3x3, VasesEnvSpec2x3V2D3, VasesEnvState2x3V2D3 \n",
    "\n",
    "# make env\n",
    "env3x3 = VasesGrid(VasesEnvSpec3x3(), VasesEnvState3x3())"
   ]
  },
  {
   "cell_type": "code",
   "execution_count": null,
   "metadata": {
    "scrolled": true
   },
   "outputs": [],
   "source": [
    "# General Test\n",
    "env3x3.reset()\n",
    "\n",
    "print_state(env3x3.s)\n",
    "for action in [0, 3, 4, 2, 2, 1, 4, 3, 4, 0, 0, 1, 4, 3, 4, 2, 2, 3, 4,\n",
    "              1, 4, 0, 1, 4, 3, 4]: \n",
    "    print('\\n')\n",
    "    print_state(env3x3.state_step(action))"
   ]
  },
  {
   "cell_type": "code",
   "execution_count": null,
   "metadata": {
    "scrolled": true
   },
   "outputs": [],
   "source": [
    "# Tries to leave environment\n",
    "env3x3.reset()\n",
    "\n",
    "print_state(env3x3.s)\n",
    "for action in [0, 0, 0, 0]: \n",
    "    print('\\n')\n",
    "    print_state(env3x3.state_step(action))"
   ]
  },
  {
   "cell_type": "code",
   "execution_count": null,
   "metadata": {},
   "outputs": [],
   "source": [
    "# Tries a bunch of weird picking/putting things\n",
    "env3x3.reset()\n",
    "\n",
    "print_state(env3x3.s)\n",
    "for action in [0, 3, 4, 4, 4, 1, 4, 3, 4, 1, 4, 4, 2, 2, 1, 4, 0, 0, 3, 4, 1, 4, 2, 2, 3, 4, 2, 1, 4, 3, 4, 4]: \n",
    "    print('\\n')\n",
    "    print_state(env3x3.state_step(action))"
   ]
  },
  {
   "cell_type": "code",
   "execution_count": null,
   "metadata": {
    "scrolled": true
   },
   "outputs": [],
   "source": [
    "len(env3x3.P.keys())"
   ]
  },
  {
   "cell_type": "code",
   "execution_count": null,
   "metadata": {},
   "outputs": [],
   "source": [
    "# 2x3 env to demonstrate that we learn a negative reward on broken vases\n",
    "env2x3 = VasesGrid(VasesEnvSpec2x3(), VasesEnvState2x3())\n",
    "len(env2x3.P.keys())"
   ]
  },
  {
   "cell_type": "code",
   "execution_count": null,
   "metadata": {
    "scrolled": true
   },
   "outputs": [],
   "source": [
    "# Goal is to have the tablecloth on the rightmost desk. \n",
    "# Fast way to solve the env that breaks the vase\n",
    "env2x3.reset()\n",
    "\n",
    "print_state(env2x3.s)\n",
    "for action in [3, 4, 2, 1, 3, 4, 0, 3, 4, 1, 4]: \n",
    "    print('\\n')\n",
    "    print_state(env2x3.state_step(action))"
   ]
  },
  {
   "cell_type": "code",
   "execution_count": null,
   "metadata": {
    "scrolled": true
   },
   "outputs": [],
   "source": [
    "# Goal is to have the tablecloth on the rightmost desk. \n",
    "# Slow way to solve the env that doesn't break the vase\n",
    "env2x3.reset()\n",
    "\n",
    "print_state(env2x3.s)\n",
    "for action in [3, 4, 1, 4, 3, 4, 2, 1, 3, 4, 0, 1, 4, 3, 4, 2, 1, 3, 4, 0, 1, 4]: \n",
    "    print('\\n')\n",
    "    print_state(env2x3.state_step(action))"
   ]
  },
  {
   "cell_type": "code",
   "execution_count": null,
   "metadata": {},
   "outputs": [],
   "source": [
    "# left yellow block is a desk, right yellow block is a table. This is specified in spec_2x3\n",
    "print(env2x3.f_matrix[444])\n",
    "print_state(str_to_state(env2x3.num_state[444]))"
   ]
  },
  {
   "cell_type": "code",
   "execution_count": null,
   "metadata": {},
   "outputs": [],
   "source": [
    "env2x3v2d3 = VasesGrid(VasesEnvSpec2x3V2D3(), VasesEnvState2x3V2D3())"
   ]
  },
  {
   "cell_type": "code",
   "execution_count": null,
   "metadata": {},
   "outputs": [],
   "source": [
    "env2x3v2d3.reset()\n",
    "\n",
    "print_state(env2x3v2d3.s)\n",
    "for action in [4, 1, 4]: \n",
    "    print('\\n')\n",
    "    print_state(env2x3v2d3.state_step(action))\n",
    "    print(env2x3v2d3.state_num[state_to_str(env2x3v2d3.s)])"
   ]
  }
 ],
 "metadata": {
  "kernelspec": {
   "display_name": "Python 3",
   "language": "python",
   "name": "python3"
  },
  "language_info": {
   "codemirror_mode": {
    "name": "ipython",
    "version": 3
   },
   "file_extension": ".py",
   "mimetype": "text/x-python",
   "name": "python",
   "nbconvert_exporter": "python",
   "pygments_lexer": "ipython3",
   "version": "3.6.6"
  }
 },
 "nbformat": 4,
 "nbformat_minor": 2
}

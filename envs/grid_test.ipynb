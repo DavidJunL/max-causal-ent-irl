{
 "cells": [
  {
   "cell_type": "code",
   "execution_count": null,
   "metadata": {},
   "outputs": [],
   "source": [
    "import numpy as np\n",
    "from scipy.special import comb\n",
    "from vases_grid import VasesGrid, VasesEnvSpec\n",
    "from utils import unique_perm\n",
    "from itertools import combinations, permutations\n",
    "\n",
    "n_vases = 2\n",
    "n_tablecloths = 2\n",
    "\n",
    "desk_mask = np.array([[1, 0, 1],\n",
    "                      [0, 0, 0],\n",
    "                      [1, 0, 1]], dtype='bool')\n",
    "\n",
    "vases_mask = np.array([[1, 1, 1],\n",
    "                       [1, 1, 1],\n",
    "                       [1, 1, 1]], dtype='bool')\n",
    "\n",
    "b_vases_mask = np.array([[0, 1, 0],\n",
    "                         [1, 1, 1],\n",
    "                         [0, 1, 0]], dtype='bool')\n",
    "\n",
    "# possible agent positions and rotations\n",
    "agent_mask = np.array([[[0, 1, 0],\n",
    "                        [1, 1, 1],\n",
    "                        [0, 1, 0]], \n",
    "                       [[0, 1, 0],\n",
    "                        [1, 1, 1],\n",
    "                        [0, 1, 0]],\n",
    "                       [[0, 1, 0],\n",
    "                        [1, 1, 1],\n",
    "                        [0, 1, 0]],\n",
    "                       [[0, 1, 0],\n",
    "                        [1, 1, 1],\n",
    "                        [0, 1, 0]]], dtype='bool')\n",
    "\n",
    "\n",
    "tablecloths_mask = np.copy(vases_mask)\n",
    "\n",
    "env_spec = VasesEnvSpec(n_vases, n_tablecloths, desk_mask, vases_mask, b_vases_mask, agent_mask, tablecloths_mask)\n",
    "env = VasesGrid(env_spec)"
   ]
  },
  {
   "cell_type": "code",
   "execution_count": null,
   "metadata": {},
   "outputs": [],
   "source": [
    "i=0\n",
    "for a in unique_perm([0, 1, 0, 1]):\n",
    "    print(i, a)\n",
    "    i+=1"
   ]
  },
  {
   "cell_type": "code",
   "execution_count": null,
   "metadata": {},
   "outputs": [],
   "source": [
    "a = np.zeros(5, dtype='bool')\n",
    "a[:1] = 1\n",
    "a"
   ]
  },
  {
   "cell_type": "code",
   "execution_count": null,
   "metadata": {},
   "outputs": [],
   "source": [
    "agent_mask.flatten().shape"
   ]
  },
  {
   "cell_type": "code",
   "execution_count": null,
   "metadata": {},
   "outputs": [],
   "source": [
    "np.sum(agent_mask, axis=0)"
   ]
  }
 ],
 "metadata": {
  "kernelspec": {
   "display_name": "Python 3",
   "language": "python",
   "name": "python3"
  },
  "language_info": {
   "codemirror_mode": {
    "name": "ipython",
    "version": 3
   },
   "file_extension": ".py",
   "mimetype": "text/x-python",
   "name": "python",
   "nbconvert_exporter": "python",
   "pygments_lexer": "ipython3",
   "version": "3.6.2"
  }
 },
 "nbformat": 4,
 "nbformat_minor": 2
}

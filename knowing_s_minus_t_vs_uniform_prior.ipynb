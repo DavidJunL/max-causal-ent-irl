{
 "cells": [
  {
   "cell_type": "code",
   "execution_count": 1,
   "metadata": {},
   "outputs": [],
   "source": [
    "import numpy as np\n",
    "import envs.mdps as mdps\n",
    "from test import get_r_prior\n",
    "from principled_frame_cond_features import om_method"
   ]
  },
  {
   "cell_type": "code",
   "execution_count": 2,
   "metadata": {},
   "outputs": [],
   "source": [
    "def experiment_wrapper(env = mdps.MDP_toy_irreversibility(),\n",
    "                        uniform_prior=False,\n",
    "                        std=.5,\n",
    "                        horizon=100,\n",
    "                        temperature=1,\n",
    "                        epochs=100,\n",
    "                        learning_rate=.1,\n",
    "                        prior = \"gaussian\",\n",
    "                        s_current = 2,\n",
    "                        seed=1,\n",
    "                        p_0=None):\n",
    "    \n",
    "    np.random.seed(seed)\n",
    "    if p_0 is None:\n",
    "        if not uniform_prior:\n",
    "            p_0=np.zeros(env.nS)\n",
    "            p_0[env.init_state] = 1\n",
    "        else:\n",
    "            p_0=np.ones(env.nS) / env.nS\n",
    "\n",
    "    reward_center = np.zeros(env.nS)\n",
    "    r_prior = get_r_prior(prior, reward_center, std)\n",
    "    r_inferred = om_method(env, s_current, p_0, horizon, temperature, epochs, learning_rate, r_prior)\n",
    "    print(f\"Inferred reward vec:   {r_inferred}\")"
   ]
  },
  {
   "cell_type": "code",
   "execution_count": 3,
   "metadata": {
    "scrolled": true
   },
   "outputs": [
    {
     "name": "stdout",
     "output_type": "stream",
     "text": [
      "Initial reward vector: [ 0.01624345 -0.00611756 -0.00528172 -0.01072969]\n",
      "Inferred reward vec:   [-0.07965214 -0.03154433  0.30961036 -0.19841402]\n"
     ]
    }
   ],
   "source": [
    "experiment_wrapper(uniform_prior=False)"
   ]
  },
  {
   "cell_type": "code",
   "execution_count": 4,
   "metadata": {
    "scrolled": true
   },
   "outputs": [
    {
     "name": "stdout",
     "output_type": "stream",
     "text": [
      "Initial reward vector: [ 0.01624345 -0.00611756 -0.00528172 -0.01072969]\n",
      "Inferred reward vec:   [-0.0796327  -0.03151199  0.30957742 -0.19843295]\n"
     ]
    }
   ],
   "source": [
    "p_0 = np.asarray([.33333333333, .33333333333, .33333333333, 0])\n",
    "experiment_wrapper(p_0=p_0)"
   ]
  },
  {
   "cell_type": "code",
   "execution_count": 5,
   "metadata": {
    "scrolled": true
   },
   "outputs": [
    {
     "name": "stdout",
     "output_type": "stream",
     "text": [
      "Initial reward vector: [ 0.01624345 -0.00611756 -0.00528172 -0.01072969]\n",
      "Inferred reward vec:   [ 0.02085289  0.0546079   6.17460504 -6.2500659 ]\n"
     ]
    }
   ],
   "source": [
    "experiment_wrapper(uniform_prior=True)"
   ]
  },
  {
   "cell_type": "code",
   "execution_count": 6,
   "metadata": {},
   "outputs": [
    {
     "name": "stdout",
     "output_type": "stream",
     "text": [
      "Initial reward vector: [ 0.01624345 -0.00611756 -0.00528172 -0.01072969]\n",
      "Inferred reward vec:   [-0.06222368 -0.08502297  0.1494279  -2.50216155]\n"
     ]
    }
   ],
   "source": [
    "p_0 = np.asarray([.33333333333, .33333333333, .33333333333, 0.1])\n",
    "experiment_wrapper(p_0=p_0)"
   ]
  },
  {
   "cell_type": "code",
   "execution_count": 7,
   "metadata": {},
   "outputs": [
    {
     "name": "stdout",
     "output_type": "stream",
     "text": [
      "Initial reward vector: [ 0.01624345 -0.00611756 -0.00528172 -0.01072969]\n",
      "Inferred reward vec:   [-0.07965325 -0.03154564  0.30961186 -0.1984131 ]\n"
     ]
    }
   ],
   "source": [
    "p_0 = np.asarray([.5, .5, 0, 0])\n",
    "experiment_wrapper(p_0=p_0)"
   ]
  },
  {
   "cell_type": "code",
   "execution_count": 8,
   "metadata": {},
   "outputs": [
    {
     "name": "stdout",
     "output_type": "stream",
     "text": [
      "Initial reward vector: [ 0.01624345 -0.00611756 -0.00528172 -0.01072969]\n",
      "Inferred reward vec:   [-0.07963243 -0.03151174  0.30957711 -0.19843315]\n"
     ]
    }
   ],
   "source": [
    "p_0 = np.asarray([.5, 0, .5, 0])\n",
    "experiment_wrapper(p_0=p_0)"
   ]
  },
  {
   "cell_type": "code",
   "execution_count": 9,
   "metadata": {},
   "outputs": [
    {
     "name": "stdout",
     "output_type": "stream",
     "text": [
      "Initial reward vector: [ 0.01624345 -0.00611756 -0.00528172 -0.01072969]\n",
      "Inferred reward vec:   [-6.10243846e-02 -8.55307494e-02  1.46570128e-01 -1.24999887e+02]\n"
     ]
    }
   ],
   "source": [
    "p_0 = np.asarray([0.1, 0, .9, 5])\n",
    "experiment_wrapper(p_0=p_0)"
   ]
  },
  {
   "cell_type": "code",
   "execution_count": 10,
   "metadata": {},
   "outputs": [
    {
     "name": "stdout",
     "output_type": "stream",
     "text": [
      "Initial reward vector: [ 0.01624345 -0.00611756 -0.00528172 -0.01072969]\n",
      "Inferred reward vec:   [-0.07963392 -0.03151455  0.30957986 -0.19843161]\n"
     ]
    }
   ],
   "source": [
    "p_0 = np.asarray([0.1, 0, .9, 0])\n",
    "experiment_wrapper(p_0=p_0)"
   ]
  },
  {
   "cell_type": "code",
   "execution_count": null,
   "metadata": {},
   "outputs": [],
   "source": []
  },
  {
   "cell_type": "code",
   "execution_count": null,
   "metadata": {},
   "outputs": [],
   "source": []
  }
 ],
 "metadata": {
  "kernelspec": {
   "display_name": "TensorFlow-GPU",
   "language": "python",
   "name": "tf-gpu"
  },
  "language_info": {
   "codemirror_mode": {
    "name": "ipython",
    "version": 3
   },
   "file_extension": ".py",
   "mimetype": "text/x-python",
   "name": "python",
   "nbconvert_exporter": "python",
   "pygments_lexer": "ipython3",
   "version": "3.6.6"
  }
 },
 "nbformat": 4,
 "nbformat_minor": 2
}

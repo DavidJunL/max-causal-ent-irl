{
 "cells": [
  {
   "cell_type": "code",
   "execution_count": null,
   "metadata": {},
   "outputs": [],
   "source": [
    "import numpy as np\n",
    "import envs.mdps as mdps\n",
    "from test import get_r_prior\n",
    "from principled_frame_cond_features import om_method"
   ]
  },
  {
   "cell_type": "code",
   "execution_count": null,
   "metadata": {},
   "outputs": [],
   "source": [
    "def experiment_wrapper(env = mdps.MDP_toy_irreversibility_nondet(),\n",
    "                        uniform_prior=False,\n",
    "                        std=.5,\n",
    "                        horizon=100,\n",
    "                        temperature=1,\n",
    "                        epochs=100,\n",
    "                        learning_rate=.1,\n",
    "                        prior = \"gaussian\",\n",
    "                        s_current = 2,\n",
    "                        seed=1,\n",
    "                        p_0=None):\n",
    "    \n",
    "    np.random.seed(seed)\n",
    "    if p_0 is None:\n",
    "        if not uniform_prior:\n",
    "            p_0=np.zeros(env.nS)\n",
    "            p_0[env.init_state] = 1\n",
    "        else:\n",
    "            p_0=np.ones(env.nS) / env.nS\n",
    "\n",
    "    reward_center = np.zeros(env.num_features)\n",
    "    r_prior = get_r_prior(prior, reward_center, std)\n",
    "    r_inferred = om_method(env, s_current, p_0, horizon, temperature, epochs, learning_rate, r_prior)\n",
    "    print(f\"Inferred reward vec:   {r_inferred}\")"
   ]
  },
  {
   "cell_type": "code",
   "execution_count": null,
   "metadata": {
    "scrolled": true
   },
   "outputs": [],
   "source": [
    "experiment_wrapper(uniform_prior=True)"
   ]
  },
  {
   "cell_type": "code",
   "execution_count": null,
   "metadata": {},
   "outputs": [],
   "source": [
    "experiment_wrapper(uniform_prior=False)"
   ]
  },
  {
   "cell_type": "code",
   "execution_count": null,
   "metadata": {},
   "outputs": [],
   "source": [
    "p_0 = np.asarray([.33333333333, .33333333333, .33333333333, 0])\n",
    "experiment_wrapper(p_0=p_0)"
   ]
  },
  {
   "cell_type": "code",
   "execution_count": null,
   "metadata": {
    "scrolled": true
   },
   "outputs": [],
   "source": [
    "p_0 = np.asarray([.5, .5, 0, 0])\n",
    "experiment_wrapper(p_0=p_0)"
   ]
  },
  {
   "cell_type": "code",
   "execution_count": null,
   "metadata": {
    "scrolled": true
   },
   "outputs": [],
   "source": [
    "p_0 = np.asarray([.5, 0, .5, 0])\n",
    "experiment_wrapper(p_0=p_0)"
   ]
  },
  {
   "cell_type": "code",
   "execution_count": null,
   "metadata": {
    "scrolled": true
   },
   "outputs": [],
   "source": [
    "p_0 = np.asarray([0.1, 0, .9, 0])\n",
    "experiment_wrapper(p_0=p_0)"
   ]
  },
  {
   "cell_type": "code",
   "execution_count": null,
   "metadata": {},
   "outputs": [],
   "source": [
    "p_0\n",
    "a = np.asarray([1,0])\n",
    "def ones_at_nonzero(x):\n",
    "    '''Returns a matrix of the shape [n,len(x)], where n is the number of non-zero elements in x'''\n",
    "    n = len(np.nonzero(x)[0])\n",
    "    out = np.zeros((n, x.shape[0]))\n",
    "    out[np.arange(n), np.nonzero(x)[0]] =1\n",
    "    return out\n",
    "\n",
    "(ones_at_nonzero(p_0) @ p_0).shape"
   ]
  },
  {
   "cell_type": "code",
   "execution_count": null,
   "metadata": {},
   "outputs": [],
   "source": [
    "np.nonzero(np.arange(6).reshape((2,3)))"
   ]
  },
  {
   "cell_type": "code",
   "execution_count": null,
   "metadata": {},
   "outputs": [],
   "source": [
    "np.vstack((np.eye(4), np.zeros(4))).T"
   ]
  },
  {
   "cell_type": "code",
   "execution_count": null,
   "metadata": {},
   "outputs": [],
   "source": [
    "a = np.arange(4).reshape((1,4))\n",
    "a.flatten().shape"
   ]
  }
 ],
 "metadata": {
  "kernelspec": {
   "display_name": "TensorFlow-GPU",
   "language": "python",
   "name": "tf-gpu"
  },
  "language_info": {
   "codemirror_mode": {
    "name": "ipython",
    "version": 3
   },
   "file_extension": ".py",
   "mimetype": "text/x-python",
   "name": "python",
   "nbconvert_exporter": "python",
   "pygments_lexer": "ipython3",
   "version": "3.6.6"
  }
 },
 "nbformat": 4,
 "nbformat_minor": 2
}

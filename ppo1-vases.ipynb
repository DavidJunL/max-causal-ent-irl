{
 "cells": [
  {
   "cell_type": "code",
   "execution_count": null,
   "metadata": {},
   "outputs": [],
   "source": [
    "import os\n",
    "import tensorflow as tf\n",
    "import numpy as np\n",
    "from envs.vases_grid import VasesGrid, VasesEnvState, print_state, str_to_state, state_to_str\n",
    "from envs.utils import unique_perm, zeros_with_ones, printoptions\n",
    "from envs.vases_spec import VasesEnvState2x3V2D3, VasesEnvSpec2x3V2D3, VasesEnvState2x3Broken, VasesEnvSpec2x3Broken\n",
    "\n",
    "import os.path as osp\n",
    "from baselines import logger\n",
    "from baselines.common import set_global_seeds\n",
    "\n",
    "def train(env, num_timesteps, seed):\n",
    "    from baselines.ppo1 import pposgd_simple, cnn_policy, mlp_policy\n",
    "    import baselines.common.tf_util as U\n",
    "    from baselines import bench\n",
    "    \n",
    "    logger.configure()\n",
    "    logger.set_level(30)\n",
    "    \n",
    "    sess = U.single_threaded_session()\n",
    "    sess.__enter__()\n",
    "    \n",
    "    rank = 0\n",
    "    workerseed = seed + 10000 * rank\n",
    "    set_global_seeds(workerseed)\n",
    "    \n",
    "    def policy_fn(name, ob_space, ac_space): #pylint: disable=W0613\n",
    "        return mlp_policy.MlpPolicy(name=name, ob_space=ob_space, ac_space=ac_space, \n",
    "                                    hid_size=16,num_hid_layers=2)\n",
    "    env = bench.Monitor(env, logger.get_dir() and\n",
    "        osp.join(logger.get_dir(), str(rank)))\n",
    "\n",
    "    pi = pposgd_simple.learn(env, policy_fn,\n",
    "        max_timesteps=int(num_timesteps * 1.1),\n",
    "        timesteps_per_actorbatch=256,\n",
    "        clip_param=0.2, entcoeff=0.01,\n",
    "        optim_epochs=4, optim_stepsize=2*1e-3, optim_batchsize=64,\n",
    "        gamma=0.99, lam=0.95,\n",
    "        schedule='linear'\n",
    "    )\n",
    "    return pi\n",
    "\n",
    "\n",
    "def rollout(env, model, steps_printed=50):\n",
    "    '''Given an env and R, runs soft VI for h steps and rolls out the resulting policy'''\n",
    "    obs = env.reset()\n",
    "    r = 0\n",
    "    done = False\n",
    "    print_state(env.s); print()\n",
    "    for i in range(steps_printed):\n",
    "        a, vpred = model.act(True, obs)\n",
    "        obs, r, done, _ = env.step(a)\n",
    "        print_state(env.s)\n",
    "        print('reward: ', env.r_vec.T @ env.s_to_f(env.s), '\\n')\n"
   ]
  },
  {
   "cell_type": "code",
   "execution_count": null,
   "metadata": {
    "scrolled": true
   },
   "outputs": [],
   "source": [
    "os.environ['TF_CPP_MIN_LOG_LEVEL'] = '3' \n",
    "tf.logging.set_verbosity(tf.logging.ERROR)\n",
    "\n",
    "\n",
    "env = VasesGrid(VasesEnvSpec2x3V2D3(), VasesEnvState2x3V2D3(), \n",
    "                f_include_masks=True, compute_transitions=False)\n",
    "\n",
    "num_timesteps=128*128*1\n",
    "model = train(env, num_timesteps, seed=1)"
   ]
  },
  {
   "cell_type": "code",
   "execution_count": null,
   "metadata": {},
   "outputs": [],
   "source": [
    "rollout(env, model, steps_printed=300)"
   ]
  },
  {
   "cell_type": "code",
   "execution_count": null,
   "metadata": {},
   "outputs": [],
   "source": []
  }
 ],
 "metadata": {
  "kernelspec": {
   "display_name": "TensorFlow-GPU",
   "language": "python",
   "name": "tf-gpu"
  },
  "language_info": {
   "codemirror_mode": {
    "name": "ipython",
    "version": 3
   },
   "file_extension": ".py",
   "mimetype": "text/x-python",
   "name": "python",
   "nbconvert_exporter": "python",
   "pygments_lexer": "ipython3",
   "version": "3.6.6"
  }
 },
 "nbformat": 4,
 "nbformat_minor": 2
}

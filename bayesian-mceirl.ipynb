{
 "cells": [
  {
   "cell_type": "code",
   "execution_count": null,
   "metadata": {},
   "outputs": [],
   "source": [
    "import numpy as np\n",
    "import warnings\n",
    "\n",
    "from scipy.stats import expon, norm, uniform\n",
    "\n",
    "from envs.vases_grid import VasesGrid, VasesEnvState #, print_state, str_to_state, state_to_str\n",
    "from envs.utils import unique_perm, zeros_with_ones, printoptions\n",
    "from envs.vases_spec import VasesEnvState2x3V2D3, VasesEnvSpec2x3V2D3, VasesEnvState2x3Broken, VasesEnvSpec2x3Broken\n",
    "\n",
    "from value_iter_and_policy import vi_boltzmann_deterministic, vi_rational_deterministic\n",
    "from occupancy_measure import compute_d_last_step_deterministic\n",
    "\n",
    "from sampling_one_s_mceirl import policy_walk_last_state_prob, log_last_step_om\n",
    "from test import forward_rl"
   ]
  },
  {
   "cell_type": "code",
   "execution_count": null,
   "metadata": {},
   "outputs": [],
   "source": [
    "env2x3v2d3 = VasesGrid(VasesEnvSpec2x3V2D3())\n",
    "r_spec = np.array([0, 0, 1, 0, 0, 0])\n",
    "s_current = np.zeros(env2x3v2d3.nS)\n",
    "s_current[1582] = 1\n",
    "env2x3v2d3.print_state(env2x3v2d3.get_state_from_num(1582))\n",
    "p_0=np.zeros(env2x3v2d3.nS)\n",
    "p_0[env2x3v2d3.get_num_from_state(env2x3v2d3.init_state)] = 1"
   ]
  },
  {
   "cell_type": "code",
   "execution_count": null,
   "metadata": {
    "scrolled": true
   },
   "outputs": [],
   "source": [
    "warnings.filterwarnings('error')\n",
    "\n",
    "# Negative exponential prior with mode at r_spec\n",
    "# r_prior = neg_exp_distr(mode=r_spec, scale=.2); step_size=.0003\n",
    "\n",
    "# Gaussian prior with mean at r_spec\n",
    "# r_prior = norm(loc=r_spec, scale=.05); step_size=.01\n",
    "\n",
    "# Uniform prior centered at r_pec. Subtracting half scale such that center of the \n",
    "# distribution is at loc, as oppposed to the lowest end\n",
    "# scale=2; loc=r_spec-.5*scale; r_prior = uniform(loc=loc, scale=scale); step_size=.01\n",
    "\n",
    "# Uniform prior centered at 0. Subtracting half scale such that center of the \n",
    "# distribution is at loc, as oppposed to the lowest end\n",
    "\n",
    "r_samples_list = []\n",
    "#for step_size in [0.1, .0001, .00001, .000001]:\n",
    "for i in range(10):\n",
    "    step_size=0.1\n",
    "    scale=2; \n",
    "    loc=np.zeros_like(r_spec)-.5*scale; \n",
    "    r_prior = uniform(loc=loc, scale=scale); \n",
    "    horizon = 70\n",
    "    temp=1\n",
    "    n_samples=2000\n",
    "    \n",
    "    r_samples = policy_walk_last_state_prob(env2x3v2d3, s_current, p_0, horizon, temp,\n",
    "                            n_samples, step_size, r_prior)\n",
    "    r_samples_list.append(r_samples)\n",
    "    with printoptions(precision=4, suppress=True):\n",
    "        res = np.mean(r_samples[250::], axis=0)\n",
    "        print(res)\n",
    "        print(np.var(r_samples[250::], axis=0))"
   ]
  },
  {
   "cell_type": "code",
   "execution_count": null,
   "metadata": {
    "scrolled": false
   },
   "outputs": [],
   "source": [
    "%matplotlib inline\n",
    "import matplotlib.pyplot as plt\n",
    "\n",
    "'''\n",
    "Order of features:\n",
    "- Number of broken vases\n",
    "- Number of vases on tables\n",
    "- Number of tablecloths on tables\n",
    "- Number of tablecloths on floors\n",
    "- Number of vases on desks\n",
    "- Number of tablecloths on desks\n",
    "'''\n",
    "with printoptions(precision=4, suppress=True):\n",
    "    res = np.mean(r_samples[250::], axis=0)\n",
    "    print(res)\n",
    "    plt.matshow(res.reshape(1,-1))\n",
    "    plt.yticks([], [])\n",
    "    plt.colorbar()"
   ]
  },
  {
   "cell_type": "code",
   "execution_count": null,
   "metadata": {
    "scrolled": true
   },
   "outputs": [],
   "source": [
    "forward_rl(env2x3v2d3, np.mean(r_samples[250::], axis=0), steps_printed=100)"
   ]
  },
  {
   "cell_type": "code",
   "execution_count": null,
   "metadata": {},
   "outputs": [],
   "source": []
  }
 ],
 "metadata": {
  "kernelspec": {
   "display_name": "TensorFlow-GPU",
   "language": "python",
   "name": "tf-gpu"
  },
  "language_info": {
   "codemirror_mode": {
    "name": "ipython",
    "version": 3
   },
   "file_extension": ".py",
   "mimetype": "text/x-python",
   "name": "python",
   "nbconvert_exporter": "python",
   "pygments_lexer": "ipython3",
   "version": "3.6.6"
  }
 },
 "nbformat": 4,
 "nbformat_minor": 2
}

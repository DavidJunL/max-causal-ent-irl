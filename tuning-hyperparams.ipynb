{
 "cells": [
  {
   "cell_type": "code",
   "execution_count": 1,
   "metadata": {},
   "outputs": [],
   "source": [
    "import csv\n",
    "import os\n",
    "import numpy as np\n",
    "\n",
    "\n",
    "def print_stats(algorithm=\"mceirl\", env=\"room\", path=\"./results/use_prior\"):\n",
    "    print(algorithm)\n",
    "    for file in os.listdir(path):\n",
    "        if \"use_prior\" in file:\n",
    "            if algorithm in file and env in file:\n",
    "                #print(os.path.join(\"./results\", file))\n",
    "\n",
    "                with open(os.path.join(path, file), 'rt') as f:\n",
    "                    reader = csv.reader(f)\n",
    "                    list_results = list(reader)[1::]\n",
    "                    list_rewards = []\n",
    "                    for res in list_results:\n",
    "                        list_rewards.append(float(res[1]))\n",
    "\n",
    "                    k_val = file.split('-k=', 1)[-1]\n",
    "                    k_val = k_val.split('-v')[0]\n",
    "\n",
    "                    print(\"k=\"+k_val)\n",
    "                    print(np.mean(np.asarray(list_rewards)), np.std(np.asarray(list_rewards)))\n",
    "                    print()"
   ]
  },
  {
   "cell_type": "code",
   "execution_count": 2,
   "metadata": {},
   "outputs": [
    {
     "name": "stdout",
     "output_type": "stream",
     "text": [
      "mceirl\n",
      "k=0.0625\n",
      "0.0 0.0\n",
      "\n",
      "k=0.125\n",
      "0.0 0.0\n",
      "\n",
      "k=0.5\n",
      "1.0 0.0\n",
      "\n",
      "k=1\n",
      "0.0 0.0\n",
      "\n",
      "k=2\n",
      "0.0 0.0\n",
      "\n",
      "k=4\n",
      "0.0 0.0\n",
      "\n",
      "k=0.25\n",
      "-0.11111111111111112 1.3877787807814457e-17\n",
      "\n",
      "k=8\n",
      "0.0 0.0\n",
      "\n"
     ]
    }
   ],
   "source": [
    "print_stats(\"mceirl\", \"room\")"
   ]
  },
  {
   "cell_type": "code",
   "execution_count": 3,
   "metadata": {},
   "outputs": [
    {
     "name": "stdout",
     "output_type": "stream",
     "text": [
      "sampling\n",
      "k=0.0625\n",
      "0.7777777777777778 0.4444444444444444\n",
      "\n",
      "k=0.125\n",
      "1.0 0.0\n",
      "\n",
      "k=0.25\n",
      "1.0 0.0\n",
      "\n",
      "k=0.5\n",
      "0.6 0.48989794855663565\n",
      "\n",
      "k=2\n",
      "0.0 0.0\n",
      "\n",
      "k=4\n",
      "0.0 0.0\n",
      "\n",
      "k=1\n",
      "0.4 0.48989794855663565\n",
      "\n",
      "k=8\n",
      "0.2 0.4000000000000001\n",
      "\n"
     ]
    }
   ],
   "source": [
    "print_stats(\"sampling\", \"room\")"
   ]
  },
  {
   "cell_type": "code",
   "execution_count": null,
   "metadata": {
    "collapsed": true
   },
   "outputs": [],
   "source": []
  }
 ],
 "metadata": {
  "kernelspec": {
   "display_name": "Python 3",
   "language": "python",
   "name": "python3"
  },
  "language_info": {
   "codemirror_mode": {
    "name": "ipython",
    "version": 3
   },
   "file_extension": ".py",
   "mimetype": "text/x-python",
   "name": "python",
   "nbconvert_exporter": "python",
   "pygments_lexer": "ipython3",
   "version": "3.5.4"
  }
 },
 "nbformat": 4,
 "nbformat_minor": 2
}

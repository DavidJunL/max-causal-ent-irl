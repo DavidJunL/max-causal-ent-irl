{
 "cells": [
  {
   "cell_type": "code",
   "execution_count": 1,
   "metadata": {
    "collapsed": true
   },
   "outputs": [],
   "source": [
    "import csv\n",
    "import os\n",
    "import numpy as np\n",
    "from envs.utils import printoptions\n",
    "\n",
    "\n",
    "def get_stats(algorithm=\"mceirl\", env=\"room\", path=\"./results/use_prior\"):\n",
    "    results_list=[]\n",
    "    for file in os.listdir(path):\n",
    "        if \"use_prior\" in file:\n",
    "            if algorithm in file and env in file:\n",
    "                #print(os.path.join(\"./results\", file))\n",
    "                \n",
    "                with open(os.path.join(path, file), 'rt') as f:\n",
    "                    reader = csv.reader(f)\n",
    "                    list_results = list(reader)[1::]\n",
    "                    list_rewards = []\n",
    "                    for res in list_results:\n",
    "                        list_rewards.append(float(res[1]))\n",
    "                    list_rewards = np.asarray(list_rewards)\n",
    "                    \n",
    "                    k_val = file.split('-k=', 1)[-1]\n",
    "                    k_val = k_val.split('-v')[0]\n",
    "                    \n",
    "                    results_list.append([float(k_val), np.mean(list_rewards), np.std(list_rewards)])\n",
    "    results_list = np.asarray(results_list)\n",
    "    # return a list sorted by the value of k\n",
    "    return results_list[results_list[:,0].argsort()]\n",
    "                    "
   ]
  },
  {
   "cell_type": "code",
   "execution_count": 2,
   "metadata": {},
   "outputs": [
    {
     "name": "stdout",
     "output_type": "stream",
     "text": [
      "   k \t mean \t std\n",
      "[[ 0.0625  0.      0.    ]\n",
      " [ 0.125   0.      0.    ]\n",
      " [ 0.25   -0.1111  0.    ]\n",
      " [ 0.5     1.      0.    ]\n",
      " [ 1.      0.      0.    ]\n",
      " [ 2.      0.      0.    ]\n",
      " [ 4.      0.      0.    ]\n",
      " [ 8.      0.      0.    ]]\n"
     ]
    }
   ],
   "source": [
    "with printoptions(precision=4, suppress=True):\n",
    "    print(\"   k \\t mean \\t std\")\n",
    "    print(get_stats(\"mceirl\", \"room\"))"
   ]
  },
  {
   "cell_type": "code",
   "execution_count": 3,
   "metadata": {},
   "outputs": [
    {
     "name": "stdout",
     "output_type": "stream",
     "text": [
      "  k \t mean \t std\n",
      "[[0.0625 0.7778 0.4444]\n",
      " [0.125  1.     0.    ]\n",
      " [0.25   1.     0.    ]\n",
      " [0.5    0.6    0.4899]\n",
      " [1.     0.4    0.4899]\n",
      " [2.     0.     0.    ]\n",
      " [4.     0.     0.    ]\n",
      " [8.     0.2    0.4   ]]\n"
     ]
    }
   ],
   "source": [
    "with printoptions(precision=4, suppress=True):\n",
    "    print(\"  k \\t mean \\t std\")\n",
    "    print(get_stats(\"sampling\", \"room\"))"
   ]
  },
  {
   "cell_type": "code",
   "execution_count": 4,
   "metadata": {},
   "outputs": [
    {
     "name": "stdout",
     "output_type": "stream",
     "text": [
      "  k \t mean \t std\n",
      "[[0.0625 0.6031 0.    ]\n",
      " [0.0625 0.548  0.0067]\n",
      " [0.125  0.6031 0.    ]\n",
      " [0.25   0.6031 0.    ]\n",
      " [1.     0.8998 0.1077]]\n"
     ]
    }
   ],
   "source": [
    "with printoptions(precision=4, suppress=True):\n",
    "    print(\"  k \\t mean \\t std\")\n",
    "    print(get_stats(\"mceirl\", \"apples\"))"
   ]
  },
  {
   "cell_type": "code",
   "execution_count": 5,
   "metadata": {},
   "outputs": [
    {
     "name": "stdout",
     "output_type": "stream",
     "text": [
      "  k \t mean \t std\n",
      "[[0.0625 0.802  0.1661]\n",
      " [0.125  0.802  0.1661]]\n"
     ]
    }
   ],
   "source": [
    "with printoptions(precision=4, suppress=True):\n",
    "    print(\"  k \\t mean \\t std\")\n",
    "    print(get_stats(\"sampling\", \"apples\"))"
   ]
  }
 ],
 "metadata": {
  "kernelspec": {
   "display_name": "Python 3",
   "language": "python",
   "name": "python3"
  },
  "language_info": {
   "codemirror_mode": {
    "name": "ipython",
    "version": 3
   },
   "file_extension": ".py",
   "mimetype": "text/x-python",
   "name": "python",
   "nbconvert_exporter": "python",
   "pygments_lexer": "ipython3",
   "version": "3.5.4"
  }
 },
 "nbformat": 4,
 "nbformat_minor": 2
}
